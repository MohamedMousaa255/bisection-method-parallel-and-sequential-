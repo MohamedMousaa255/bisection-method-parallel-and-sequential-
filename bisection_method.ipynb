{
 "cells": [
  {
   "cell_type": "code",
   "execution_count": 36,
   "id": "ded412f2",
   "metadata": {},
   "outputs": [
    {
     "name": "stdout",
     "output_type": "stream",
     "text": [
      "the error is 0.03125\n",
      "the lower boundry 0.625\n",
      "the upper boundry 0.65625\n"
     ]
    }
   ],
   "source": [
    "def  bisection_method(func,a,b,error_acceptance):\n",
    "    \n",
    "    def f(x):\n",
    "        f=eval(func)\n",
    "        return f\n",
    "    \n",
    "    error = abs(b-a)\n",
    "    \n",
    "    while error>error_acceptance :\n",
    "        c = (b+a)/2\n",
    "        \n",
    "        if f(a)*f(b) >= 0:\n",
    "            print(\"no root\")\n",
    "            break\n",
    "            \n",
    "        elif f(c)*f(a)<0:\n",
    "            b=c\n",
    "            error=abs(b-a)\n",
    "            \n",
    "        elif f(c)*f(b)<0:\n",
    "            a=c\n",
    "            error=abs(b-a)\n",
    "        else:\n",
    "            print(\"error issue\")\n",
    "            break\n",
    "    print(f\"the error is {error}\")\n",
    "    print(f\"the lower boundry {a}\")\n",
    "    print(f\"the upper boundry {b}\")\n",
    "\n",
    "bisection_method(\"(4*x**3)+3*x-3\",0,1,0.05)"
   ]
  },
  {
   "cell_type": "code",
   "execution_count": 39,
   "id": "bd913b83",
   "metadata": {},
   "outputs": [
    {
     "name": "stdout",
     "output_type": "stream",
     "text": [
      "no root\n",
      "no root\n",
      "no root\n",
      "no root\n",
      "no root\n",
      "no root\n",
      "there is an root in this interval \n",
      "the lower boundry 0.6\n",
      "the upper boundry 0.6499999999999999\n",
      "no root\n",
      "no root\n",
      "no root\n"
     ]
    }
   ],
   "source": [
    "def  bisection_method_process(func,a,b,error_acceptance):\n",
    "    def f(x):\n",
    "        f=eval(func)\n",
    "        return f\n",
    "    \n",
    "    error = abs(b-a)\n",
    "    flag=1\n",
    "    while error>error_acceptance :\n",
    "        c = (b+a)/2\n",
    "        \n",
    "        if f(a)*f(b) >= 0:\n",
    "            print(\"no root\")\n",
    "            flag=0\n",
    "            break\n",
    "            \n",
    "        elif f(c)*f(a)<0:\n",
    "            b=c\n",
    "            error=abs(b-a)\n",
    "            \n",
    "        elif f(c)*f(b)<0:\n",
    "            a=c\n",
    "            error=abs(b-a)\n",
    "        else:\n",
    "            print(\"error issue\")\n",
    "            flag=0\n",
    "            break\n",
    "    if flag==1:\n",
    "        print(\"there is an root in this interval \")\n",
    "        print(f\"the lower boundry {a}\")\n",
    "        print(f\"the upper boundry {b}\")\n",
    "def  bisection_method(func,a,b,error_acceptance,n_processors):\n",
    "    interval_width=(a+b)/n_processors\n",
    "    for x in range(n_processors):\n",
    "        bisection_method_process(func,a,a+interval_width,error_acceptance)\n",
    "        a=a+interval_width\n",
    "bisection_method(\"(4*x**3)+3*x-3\",0,1,0.05,10)"
   ]
  },
  {
   "cell_type": "code",
   "execution_count": null,
   "id": "d19727de",
   "metadata": {},
   "outputs": [],
   "source": []
  }
 ],
 "metadata": {
  "kernelspec": {
   "display_name": "Python 3 (ipykernel)",
   "language": "python",
   "name": "python3"
  },
  "language_info": {
   "codemirror_mode": {
    "name": "ipython",
    "version": 3
   },
   "file_extension": ".py",
   "mimetype": "text/x-python",
   "name": "python",
   "nbconvert_exporter": "python",
   "pygments_lexer": "ipython3",
   "version": "3.9.12"
  }
 },
 "nbformat": 4,
 "nbformat_minor": 5
}
